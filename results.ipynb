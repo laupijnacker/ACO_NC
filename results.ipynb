{
  "nbformat": 4,
  "nbformat_minor": 0,
  "metadata": {
    "colab": {
      "name": "results.ipynb",
      "provenance": [],
      "collapsed_sections": []
    },
    "kernelspec": {
      "name": "python3",
      "display_name": "Python 3"
    }
  },
  "cells": [
    {
      "cell_type": "code",
      "metadata": {
        "id": "ErIOmgAyKkLl",
        "colab_type": "code",
        "colab": {}
      },
      "source": [
        "import numpy as np \n",
        "import pandas as pd\n",
        "import matplotlib.pyplot as plt\n"
      ],
      "execution_count": 1,
      "outputs": []
    },
    {
      "cell_type": "code",
      "metadata": {
        "id": "HNElTQNf-tZL",
        "colab_type": "code",
        "colab": {
          "base_uri": "https://localhost:8080/",
          "height": 121
        },
        "outputId": "ee04610e-e343-41b2-de24-7ebcca6c8a35"
      },
      "source": [
        "from google.colab import drive\n",
        "drive.mount('/content/drive')"
      ],
      "execution_count": 2,
      "outputs": [
        {
          "output_type": "stream",
          "text": [
            "Go to this URL in a browser: https://accounts.google.com/o/oauth2/auth?client_id=947318989803-6bn6qk8qdgf4n4g3pfee6491hc0brc4i.apps.googleusercontent.com&redirect_uri=urn%3aietf%3awg%3aoauth%3a2.0%3aoob&response_type=code&scope=email%20https%3a%2f%2fwww.googleapis.com%2fauth%2fdocs.test%20https%3a%2f%2fwww.googleapis.com%2fauth%2fdrive%20https%3a%2f%2fwww.googleapis.com%2fauth%2fdrive.photos.readonly%20https%3a%2f%2fwww.googleapis.com%2fauth%2fpeopleapi.readonly\n",
            "\n",
            "Enter your authorization code:\n",
            "··········\n",
            "Mounted at /content/drive\n"
          ],
          "name": "stdout"
        }
      ]
    },
    {
      "cell_type": "code",
      "metadata": {
        "id": "jcQjkmANpjd0",
        "colab_type": "code",
        "colab": {}
      },
      "source": [
        "# here the alorightm results are loaded, change the directory and file names accordingly \n",
        "\n",
        "labels = [ \"ACSopt\", \"ASopt\", \"MEACOopt\"]  #\"AS\", \"ACS\", \"MEACO\",\n",
        "algo_dictionary = {}\n",
        "for algo in labels:\n",
        "    algo_dictionary[algo] = (np.loadtxt('/content/drive/My Drive/Natural computing/results/st70/st70'+ algo +'_timestamps.csv', delimiter = \",\"), np.loadtxt('/content/drive/My Drive/Natural computing/results/st70/st70'+ algo +'_history.csv', delimiter = \",\"))\n"
      ],
      "execution_count": 89,
      "outputs": []
    },
    {
      "cell_type": "code",
      "metadata": {
        "id": "iyvgVsBex86O",
        "colab_type": "code",
        "colab": {}
      },
      "source": [
        "# change timelimit, t is interval in seconds to take point.\n",
        "# ulysses : 60\n",
        "# oliver : 180\n",
        "# st70: 300\n",
        "# eil: 720\n",
        "\n",
        "timelimit = 300\n",
        "t = 10\n",
        "times_to_extract = np.arange(10, timelimit + t , t)"
      ],
      "execution_count": 97,
      "outputs": []
    },
    {
      "cell_type": "code",
      "metadata": {
        "id": "14XjjV8ug8_K",
        "colab_type": "code",
        "colab": {}
      },
      "source": [
        "total_plot = []"
      ],
      "execution_count": 98,
      "outputs": []
    },
    {
      "cell_type": "code",
      "metadata": {
        "id": "2R1lInaENwlH",
        "colab_type": "code",
        "colab": {
          "base_uri": "https://localhost:8080/",
          "height": 67
        },
        "outputId": "48f8e5d3-f91a-4b52-ef22-8bb37539003d"
      },
      "source": [
        "# this cell takes points from runs to plot, This is done since not all runs have equal amount of iterations. \n",
        "# the history points are taken closest to each timepoint in times_to_extract. s\n",
        "endscores = []\n",
        "\n",
        "for label in labels:\n",
        "  print(label)\n",
        "  timestamps = algo_dictionary[label][0]\n",
        "  history = algo_dictionary[label][1]\n",
        "\n",
        "  to_plot = []\n",
        "  \n",
        "  for times in times_to_extract:\n",
        "    if times == 0:\n",
        "      history_list = history[:,0]\n",
        "      avg = sum(history_list)/len(history_list)\n",
        "      to_plot.append(avg)\n",
        "    else:\n",
        "      history_list = []\n",
        "      for i in range(10):\n",
        "        index = np.where((timestamps[i] > 0) & (timestamps[i] <= times))[0][-1]\n",
        "        history_list.append(index)\n",
        "      a = history \n",
        "      a= a[np.arange(len(a)), history_list]\n",
        "      avg = sum(a)/len(a)\n",
        "      to_plot.append(avg)\n",
        "      if times == timelimit:\n",
        "        endscores.append(a)\n",
        "\n",
        "  total_plot.append(to_plot)"
      ],
      "execution_count": 99,
      "outputs": [
        {
          "output_type": "stream",
          "text": [
            "ACSopt\n",
            "ASopt\n",
            "MEACOopt\n"
          ],
          "name": "stdout"
        }
      ]
    },
    {
      "cell_type": "code",
      "metadata": {
        "id": "CO8d1HGacVWj",
        "colab_type": "code",
        "colab": {
          "base_uri": "https://localhost:8080/",
          "height": 67
        },
        "outputId": "38b94939-54e0-46a6-ee63-da9894e848bd"
      },
      "source": [
        "endscores"
      ],
      "execution_count": 103,
      "outputs": [
        {
          "output_type": "execute_result",
          "data": {
            "text/plain": [
              "[array([704., 709., 714., 713., 708., 714., 709., 707., 710., 698.]),\n",
              " array([703., 704., 695., 702., 704., 710., 709., 696., 712., 705.]),\n",
              " array([707., 710., 709., 703., 708., 711., 708., 711., 699., 698.])]"
            ]
          },
          "metadata": {
            "tags": []
          },
          "execution_count": 103
        }
      ]
    },
    {
      "cell_type": "code",
      "metadata": {
        "id": "FO4OePc_cclN",
        "colab_type": "code",
        "colab": {
          "base_uri": "https://localhost:8080/",
          "height": 84
        },
        "outputId": "4ffd3c13-9ca6-487f-fbca-e323e8e7e2d3"
      },
      "source": [
        "# use this cell to find max , min ,avg and variance of the 10 runs for each algorithm \n",
        "\n",
        "number=2\n",
        "print(max(endscores[number]))\n",
        "print(min(endscores[number]))\n",
        "print(sum(endscores[number])/10)\n",
        "print(np.var(endscores[number]))"
      ],
      "execution_count": 108,
      "outputs": [
        {
          "output_type": "stream",
          "text": [
            "711.0\n",
            "698.0\n",
            "706.4\n",
            "20.439999999999998\n"
          ],
          "name": "stdout"
        }
      ]
    },
    {
      "cell_type": "code",
      "metadata": {
        "id": "AzI9fPRkh9Ij",
        "colab_type": "code",
        "colab": {}
      },
      "source": [
        "def compare(aco_instances, labels,times_to_extract):\n",
        "\n",
        "  for i, aco in enumerate(aco_instances):\n",
        "    plt.plot(times_to_extract, aco, label = labels[i])  , #marker = \".\"\n",
        "    plt.legend()\n",
        "    plt.title(\"st70 - 2opt \")\n",
        "    plt.xlabel(\"time elapsed\")\n",
        "    plt.ylabel(\"total distance\")"
      ],
      "execution_count": 100,
      "outputs": []
    },
    {
      "cell_type": "code",
      "metadata": {
        "id": "bQeUQ0nGivNw",
        "colab_type": "code",
        "colab": {
          "base_uri": "https://localhost:8080/",
          "height": 295
        },
        "outputId": "58537f22-22a8-44c1-c34f-99a03d460625"
      },
      "source": [
        "compare(total_plot, labels, times_to_extract)"
      ],
      "execution_count": 101,
      "outputs": [
        {
          "output_type": "display_data",
          "data": {
            "image/png": "[encoded data removed]",
            "text/plain": [
              "<Figure size 432x288 with 1 Axes>"
            ]
          },
          "metadata": {
            "tags": [],
            "needs_background": "light"
          }
        }
      ]
    }
  ]
}